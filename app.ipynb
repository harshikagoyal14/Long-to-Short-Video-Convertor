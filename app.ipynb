{
  "nbformat": 4,
  "nbformat_minor": 0,
  "metadata": {
    "colab": {
      "provenance": [],
      "authorship_tag": "ABX9TyPAWIwLG9C1BCsCiZNkPClj",
      "include_colab_link": true
    },
    "kernelspec": {
      "name": "python3",
      "display_name": "Python 3"
    },
    "language_info": {
      "name": "python"
    }
  },
  "cells": [
    {
      "cell_type": "markdown",
      "metadata": {
        "id": "view-in-github",
        "colab_type": "text"
      },
      "source": [
        "<a href=\"https://colab.research.google.com/github/harshikagoyal14/Long-to-Short-Video-Convertor/blob/main/app.ipynb\" target=\"_parent\"><img src=\"https://colab.research.google.com/assets/colab-badge.svg\" alt=\"Open In Colab\"/></a>"
      ]
    },
    {
      "cell_type": "code",
      "execution_count": null,
      "metadata": {
        "id": "cgOFX50uPLnG"
      },
      "outputs": [],
      "source": [
        "import streamlit as st\n",
        "import os\n",
        "from video_process import final\n",
        "\n",
        "\n",
        "\n",
        "if __name__ == \"__main__\":\n",
        "    st.title(\"YouTube Shorts Extractor Web App from long videos\")\n",
        "\n",
        "    uploaded_file = st.file_uploader(\"Choose a file\", type=[\"mp4\", \"avi\", \"mov\"])\n",
        "\n",
        "\n",
        "    if uploaded_file is not None:\n",
        "        st.video(uploaded_file)\n",
        "\n",
        "\n",
        "        if st.button(\"Process File\"):\n",
        "            with st.spinner(\"Processing...\"):\n",
        "                # Save the uploaded file to a temporary location\n",
        "                temp_file_path = \"input_file.mp4\"\n",
        "                with open(temp_file_path, \"wb\") as temp_file:\n",
        "                    temp_file.write(uploaded_file.read())\n",
        "\n",
        "                try:\n",
        "                    final(temp_file_path)\n",
        "                except Exception as e:\n",
        "                    st.error(f\"An error occurred: {e}\")\n",
        "                    os.remove(temp_file_path)\n",
        "                    os.remove(\"output_audio.wav\")\n",
        "                    os.remove(\"transcript.txt\")\n",
        "                    st.stop()\n",
        "\n",
        "\n",
        "                output_folder = \"output\"  # Replace with your actual output folder path\n",
        "                output_files = [f for f in os.listdir(output_folder) if os.path.isfile(os.path.join(output_folder, f))]\n",
        "\n",
        "                st.info(\"Here are the processed video clips:\")\n",
        "\n",
        "                # Display the processed video clips in a grid format\n",
        "                num_columns = 3  # Number of columns in the grid\n",
        "                columns = st.columns(num_columns)\n",
        "\n",
        "                for i, output_file in enumerate(output_files):\n",
        "                    with columns[i % num_columns]:\n",
        "                        st.video(os.path.join(output_folder, output_file))\n",
        "                        os.remove(os.path.join(output_folder, output_file))\n",
        "\n",
        "                st.success(\"Processing complete!\")\n",
        "\n",
        "            # Remove temporary files after processing\n",
        "            os.remove(temp_file_path)\n",
        "            os.remove(\"output_audio.wav\")\n",
        "            os.remove(\"transcript.txt\")\n",
        "\n",
        ""
      ]
    }
  ]
}